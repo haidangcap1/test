{
 "cells": [
  {
   "cell_type": "code",
   "execution_count": 6,
   "metadata": {},
   "outputs": [
    {
     "name": "stdout",
     "output_type": "stream",
     "text": [
      "[]\n",
      "['\"[]\"']\n"
     ]
    },
    {
     "ename": "ValueError",
     "evalue": "'[Mã 1911LIFESALE giảm 10% đơn 100k]Nước lau kính SUZY 4L - thành phần HỮU CƠ, chất lượng NHẬT BẢN' is not in list",
     "output_type": "error",
     "traceback": [
      "\u001b[1;31m---------------------------------------------------------------------------\u001b[0m",
      "\u001b[1;31mValueError\u001b[0m                                Traceback (most recent call last)",
      "\u001b[1;32m~\\AppData\\Local\\Temp\\2/ipykernel_5576/706753077.py\u001b[0m in \u001b[0;36m<module>\u001b[1;34m\u001b[0m\n\u001b[0;32m     22\u001b[0m \u001b[0masd\u001b[0m  \u001b[1;33m=\u001b[0m\u001b[0mConvert\u001b[0m\u001b[1;33m(\u001b[0m\u001b[0mstr1\u001b[0m\u001b[1;33m)\u001b[0m\u001b[1;33m\u001b[0m\u001b[1;33m\u001b[0m\u001b[0m\n\u001b[0;32m     23\u001b[0m \u001b[0masdf\u001b[0m \u001b[1;33m=\u001b[0m \u001b[1;34m\"[Mã 1911LIFESALE giảm 10% đơn 100k]Nước lau kính SUZY 4L - thành phần HỮU CƠ, chất lượng NHẬT BẢN\"\u001b[0m\u001b[1;33m\u001b[0m\u001b[1;33m\u001b[0m\u001b[0m\n\u001b[1;32m---> 24\u001b[1;33m \u001b[0mprint\u001b[0m\u001b[1;33m(\u001b[0m\u001b[0masd\u001b[0m\u001b[1;33m.\u001b[0m\u001b[0mindex\u001b[0m\u001b[1;33m(\u001b[0m\u001b[0masdf\u001b[0m\u001b[1;33m)\u001b[0m\u001b[1;33m)\u001b[0m\u001b[1;33m\u001b[0m\u001b[1;33m\u001b[0m\u001b[0m\n\u001b[0m",
      "\u001b[1;31mValueError\u001b[0m: '[Mã 1911LIFESALE giảm 10% đơn 100k]Nước lau kính SUZY 4L - thành phần HỮU CƠ, chất lượng NHẬT BẢN' is not in list"
     ]
    }
   ],
   "source": [
    "\n",
    "try:\n",
    "    from bs4 import BeautifulSoup\n",
    "    profiles = BeautifulSoup(driver.page_source)\n",
    "    link = profiles.find_all('div', class_='typo-r12 _2N3p3W _1a2fU5')\n",
    "    \n",
    "    print(link)\n",
    "except:\n",
    "    pass\n",
    "a = '\"{}\"'.format(link)\n",
    "print(a.split(\",\"))\n",
    "\n",
    "b = a.replace('</div>',\"-\")\n",
    "c = b.replace('<div class=\"typo-r12 _2N3p3W _1a2fU5\">', '-ta-').replace('[-ta-','').replace('\"','').replace('-]\"','')\n",
    "\n",
    "\n",
    "def Convert(string):\n",
    "\tli = list(string.split('-, -ta-'))\n",
    "\treturn li\n",
    "\n",
    "# Driver code\t\n",
    "str1 = c \n",
    "asd  =Convert(str1)\n",
    "asdf = \"[Mã 1911LIFESALE giảm 10% đơn 100k]Nước lau kính SUZY 4L - thành phần HỮU CƠ, chất lượng NHẬT BẢN\"\n",
    "print(asd.index(asdf))"
   ]
  },
  {
   "cell_type": "code",
   "execution_count": 4,
   "metadata": {},
   "outputs": [],
   "source": [
    "from tarfile import LNKTYPE\n",
    "from types import DynamicClassAttribute\n",
    "from selenium import webdriver\n",
    "from selenium.webdriver.chrome.options import Options\n",
    "import time\n",
    "import random\n",
    "import platform\n",
    "import sys\n",
    "import os\n",
    "import json\n",
    "import pickle\n",
    "import click\n",
    "import openpyxl\n",
    "from openpyxl import load_workbook\n",
    "import random\n",
    "from fake_useragent import UserAgent\n",
    "from selenium.webdriver.common.keys import Keys\n",
    "from selenium.webdriver.common.by import By\n",
    "from selenium.webdriver.support.ui import WebDriverWait\n",
    "from selenium.webdriver.support import expected_conditions as EC\n",
    "from selenium.webdriver.common.action_chains import ActionChains\n",
    "from selenium.common.exceptions import WebDriverException, TimeoutException, MoveTargetOutOfBoundsException\n",
    "from selenium.common.exceptions import TimeoutException\n",
    "from pathlib import Path\n",
    "from webdriver_manager import driver\n",
    "from webdriver_manager.chrome import ChromeDriverManager\n",
    "from termcolor import colored\n",
    "from colorama import init"
   ]
  },
  {
   "cell_type": "code",
   "execution_count": 5,
   "metadata": {},
   "outputs": [
    {
     "name": "stderr",
     "output_type": "stream",
     "text": [
      "C:\\Users\\vps24\\AppData\\Local\\Temp\\2/ipykernel_5576/1291710039.py:8: DeprecationWarning: executable_path has been deprecated, please pass in a Service object\n",
      "  driver = webdriver.Chrome('C:/Users/vps24/Desktop/thanhpham/drivers/chromedriver_windows')\n"
     ]
    }
   ],
   "source": [
    "from selenium import webdriver\n",
    "\n",
    "\n",
    "\n",
    "\n",
    "\n",
    "\n",
    "driver = webdriver.Chrome('C:/Users/vps24/Desktop/thanhpham/drivers/chromedriver_windows')\n",
    "\n",
    "driver.get('https://www.google.com')"
   ]
  },
  {
   "cell_type": "code",
   "execution_count": 9,
   "metadata": {},
   "outputs": [
    {
     "name": "stdout",
     "output_type": "stream",
     "text": [
      "[<div class=\"_10Wbs- _5SSWfi UjjMrh\">Nước rửa chén bát Suzy Nhật Bản 2,1kg - thành phần Hữu Cơ.</div>, <div class=\"_10Wbs- _5SSWfi UjjMrh\">Nước rửa chén bát SUZY 4Kg -thành phần HỮU CƠ, chất lượng NHẬT BẢN</div>, <div class=\"_10Wbs- _5SSWfi UjjMrh\">Losaka - Nước Lau Sàn SUZY tinh dâu quế , lau sạch sàn nhà, bếp, diệt khuẩn xua đuổi côn trùng chai 1000ml</div>, <div class=\"_10Wbs- _5SSWfi UjjMrh\">Nước giặt NANO Suzy Nhật Bản 4kg - thành phần hữu cơ</div>, <div class=\"_10Wbs- _5SSWfi UjjMrh\">Nước Lau Sàn Suzy Hương Hoa Nhài Nhật 2.3L</div>, <div class=\"_10Wbs- _5SSWfi UjjMrh\">Nước tẩy rửa bồn cầu, nhà tắm Cao Cấp Suzy Nhật Bản 1L - thành phần Hữu Cơ, không mùi axit</div>, <div class=\"_10Wbs- _5SSWfi UjjMrh\">[CHÍNH HÃNG] Nước rửa tay DIỆT KHUẨN SUZY 320g - thành phần HỮU CƠ, chất lượng NHẬT BẢN</div>, <div class=\"_10Wbs- _5SSWfi UjjMrh\">[Chính Hãng ] Nước Rửa Chén Bát SUZY Nhật Bản 4kg</div>, <div class=\"_10Wbs- _5SSWfi UjjMrh\">Nước lau đồ gỗ và sàn gỗ chuyên dụng Suzy Nhật Bản 4Kg - thành phần Hữu Cơ</div>, <div class=\"_10Wbs- _5SSWfi UjjMrh\">Nước lau sàn SUZY 2,3L diệt sạck Vi Khuẩn - sản phẩm hữu cơ, chất lượng Nhật Bản</div>, <div class=\"_10Wbs- _5SSWfi UjjMrh\">Nước giặt xả Suzy Anh Đào Plus 2,4kg 5 trong 1 Nhật Bản, thành phần hữu cơ, an toàn cho e bé.</div>, <div class=\"_10Wbs- _5SSWfi UjjMrh\"> (Chính Hãng ) Nước rửa chén Suzy can 2,1kg có vòi nhấn - Công nghệ Nhật Bản.</div>, <div class=\"_10Wbs- _5SSWfi UjjMrh\"> [CHÍNH HÃNG] Nước Lau Sàn SUZY 4L - Chất Lượng NHẬT BẢN</div>, <div class=\"_10Wbs- _5SSWfi UjjMrh\">NƯỚC GIẶT SUZY NANO ONE THANH TRÚC 4KG</div>, <div class=\"_10Wbs- _5SSWfi UjjMrh\">[CHÍNH HÃNG] nước lau sàn SUZY 1L - thành phần HỮU CƠ, chất lượng NHẬT BẢN</div>, <div class=\"_10Wbs- _5SSWfi UjjMrh\">[Mã 1911LIFESALE giảm 10% đơn 100k]Nước lau kính SUZY 4L - thành phần HỮU CƠ, chất lượng NHẬT BẢN</div>, <div class=\"_10Wbs- _5SSWfi UjjMrh\">[CHÍNH HÃNG] Nước rửa tay DIỆT KHUẨN SUZY 4L - thành phần HỮU CƠ, chất lượng NHẬT BẢN</div>, <div class=\"_10Wbs- _5SSWfi UjjMrh\">Tag cài áo thương hiệu cao cấp suzy</div>, <div class=\"_10Wbs- _5SSWfi UjjMrh\">[Mã 1911LIFESALE giảm 10% đơn 100k]Nước rửa chén bát Suzy Nhật Bản 2,1kg - thành phần Hữu Cơ CHẤT LƯỢNG NHẬT BẢN</div>, <div class=\"_10Wbs- _5SSWfi UjjMrh\">NƯỚC LAU SÀN SẢ CHANH SUZY 1 LÍT</div>, <div class=\"_10Wbs- _5SSWfi UjjMrh\">[CHÍNH HÃNG] Nước lau sàn gỗ và đồ gỗ SUZY 1L - thành phần HỮU CƠ, chất lượng NHẬT BẢN</div>, <div class=\"_10Wbs- _5SSWfi UjjMrh\">Nước tẩy rửa bồn cầu, nước tẩy rửa SUZY (1 lít), tẩy rửa bồn cầu, nhà tắm hữu cơ cao cấp</div>, <div class=\"_10Wbs- _5SSWfi UjjMrh\">[ CHÍNH HÃNG] Nước rửa chén Suzy hương Bạc Hà 560g- thành phần HỮU CƠ, chất lượng NHẬT BẢN</div>, <div class=\"_10Wbs- _5SSWfi UjjMrh\">[CHÍNH HÃNG] Nước lau bếp ĐA NĂNG SUZY 500ML32 - thành phần HỮU CƠ, chất lượng NHẬT BẢN</div>, <div class=\"_10Wbs- _5SSWfi UjjMrh\">Nước tẩy bồn cầu Black Suzy hương quế</div>, <div class=\"_10Wbs- _5SSWfi UjjMrh\">[CHÍNH HÃNG] Nước tẩy rửa bồn cầu CAO CẤP SUZY 560g - thành phần HỮU CƠ, chất lượng NHẬT BẢN</div>, <div class=\"_10Wbs- _5SSWfi UjjMrh\">(Chính Hãng) Nước lau đồ gỗ Suzy chai 500ml Chất lượng Nhật Bản</div>, <div class=\"_10Wbs- _5SSWfi UjjMrh\"> [Chính Hãng ] Nước Rửa Chén Bát SUZY Can 4kg Chất Lượng Nhật Bản.</div>, <div class=\"_10Wbs- _5SSWfi UjjMrh\">( Chính Hãng) Nước rửa chén Suzy can 2,1kg có vòi nhấn - Công nghệ Nhật Bản</div>, <div class=\"_10Wbs- _5SSWfi UjjMrh\">Nước giặt xả Suzy 2,4kg Nhật Bản công nghệ Nano Bạc, hương Lavender, thành phần hữu cơ, giặt được cho bé.</div>, <div class=\"_10Wbs- _5SSWfi UjjMrh\">Vải Thủy Suzy</div>, <div class=\"_10Wbs- _5SSWfi UjjMrh\">áo sơ mi kẻ xanh, sơ mi nữ, áo sơ mi dáng suzy phong cách Hàn Quốc</div>, <div class=\"_10Wbs- _5SSWfi UjjMrh\">[CHÍNH HÃNG] Nước xịt lau đồ GỖ DIỆT KHUẨN SUZY 500ml - thành phần HỮU CƠ, chất lượng NHẬT BẢN</div>, <div class=\"_10Wbs- _5SSWfi UjjMrh\">Nước Rửa Chén Suzy Hương Bạc Hà Can 2.1kg Công Nghệ Nhật Bản ( vòi nhấn )</div>, <div class=\"_10Wbs- _5SSWfi UjjMrh\">Nước xịt lau đồ GỖ DIỆT KHUẨN SUZY 500ml - thành phần HỮU CƠ, chất lượng NHẬT BẢN</div>]\n",
      "['\"[<div class=\"_10Wbs- _5SSWfi UjjMrh\">Nước rửa chén bát Suzy Nhật Bản 2', '1kg - thành phần Hữu Cơ.</div>', ' <div class=\"_10Wbs- _5SSWfi UjjMrh\">Nước rửa chén bát SUZY 4Kg -thành phần HỮU CƠ', ' chất lượng NHẬT BẢN</div>', ' <div class=\"_10Wbs- _5SSWfi UjjMrh\">Losaka - Nước Lau Sàn SUZY tinh dâu quế ', ' lau sạch sàn nhà', ' bếp', ' diệt khuẩn xua đuổi côn trùng chai 1000ml</div>', ' <div class=\"_10Wbs- _5SSWfi UjjMrh\">Nước giặt NANO Suzy Nhật Bản 4kg - thành phần hữu cơ</div>', ' <div class=\"_10Wbs- _5SSWfi UjjMrh\">Nước Lau Sàn Suzy Hương Hoa Nhài Nhật 2.3L</div>', ' <div class=\"_10Wbs- _5SSWfi UjjMrh\">Nước tẩy rửa bồn cầu', ' nhà tắm Cao Cấp Suzy Nhật Bản 1L - thành phần Hữu Cơ', ' không mùi axit</div>', ' <div class=\"_10Wbs- _5SSWfi UjjMrh\">[CHÍNH HÃNG] Nước rửa tay DIỆT KHUẨN SUZY 320g - thành phần HỮU CƠ', ' chất lượng NHẬT BẢN</div>', ' <div class=\"_10Wbs- _5SSWfi UjjMrh\">[Chính Hãng ] Nước Rửa Chén Bát SUZY Nhật Bản 4kg</div>', ' <div class=\"_10Wbs- _5SSWfi UjjMrh\">Nước lau đồ gỗ và sàn gỗ chuyên dụng Suzy Nhật Bản 4Kg - thành phần Hữu Cơ</div>', ' <div class=\"_10Wbs- _5SSWfi UjjMrh\">Nước lau sàn SUZY 2', '3L diệt sạck Vi Khuẩn - sản phẩm hữu cơ', ' chất lượng Nhật Bản</div>', ' <div class=\"_10Wbs- _5SSWfi UjjMrh\">Nước giặt xả Suzy Anh Đào Plus 2', '4kg 5 trong 1 Nhật Bản', ' thành phần hữu cơ', ' an toàn cho e bé.</div>', ' <div class=\"_10Wbs- _5SSWfi UjjMrh\"> (Chính Hãng ) Nước rửa chén Suzy can 2', '1kg có vòi nhấn - Công nghệ Nhật Bản.</div>', ' <div class=\"_10Wbs- _5SSWfi UjjMrh\"> [CHÍNH HÃNG] Nước Lau Sàn SUZY 4L - Chất Lượng NHẬT BẢN</div>', ' <div class=\"_10Wbs- _5SSWfi UjjMrh\">NƯỚC GIẶT SUZY NANO ONE THANH TRÚC 4KG</div>', ' <div class=\"_10Wbs- _5SSWfi UjjMrh\">[CHÍNH HÃNG] nước lau sàn SUZY 1L - thành phần HỮU CƠ', ' chất lượng NHẬT BẢN</div>', ' <div class=\"_10Wbs- _5SSWfi UjjMrh\">[Mã 1911LIFESALE giảm 10% đơn 100k]Nước lau kính SUZY 4L - thành phần HỮU CƠ', ' chất lượng NHẬT BẢN</div>', ' <div class=\"_10Wbs- _5SSWfi UjjMrh\">[CHÍNH HÃNG] Nước rửa tay DIỆT KHUẨN SUZY 4L - thành phần HỮU CƠ', ' chất lượng NHẬT BẢN</div>', ' <div class=\"_10Wbs- _5SSWfi UjjMrh\">Tag cài áo thương hiệu cao cấp suzy</div>', ' <div class=\"_10Wbs- _5SSWfi UjjMrh\">[Mã 1911LIFESALE giảm 10% đơn 100k]Nước rửa chén bát Suzy Nhật Bản 2', '1kg - thành phần Hữu Cơ CHẤT LƯỢNG NHẬT BẢN</div>', ' <div class=\"_10Wbs- _5SSWfi UjjMrh\">NƯỚC LAU SÀN SẢ CHANH SUZY 1 LÍT</div>', ' <div class=\"_10Wbs- _5SSWfi UjjMrh\">[CHÍNH HÃNG] Nước lau sàn gỗ và đồ gỗ SUZY 1L - thành phần HỮU CƠ', ' chất lượng NHẬT BẢN</div>', ' <div class=\"_10Wbs- _5SSWfi UjjMrh\">Nước tẩy rửa bồn cầu', ' nước tẩy rửa SUZY (1 lít)', ' tẩy rửa bồn cầu', ' nhà tắm hữu cơ cao cấp</div>', ' <div class=\"_10Wbs- _5SSWfi UjjMrh\">[ CHÍNH HÃNG] Nước rửa chén Suzy hương Bạc Hà 560g- thành phần HỮU CƠ', ' chất lượng NHẬT BẢN</div>', ' <div class=\"_10Wbs- _5SSWfi UjjMrh\">[CHÍNH HÃNG] Nước lau bếp ĐA NĂNG SUZY 500ML32 - thành phần HỮU CƠ', ' chất lượng NHẬT BẢN</div>', ' <div class=\"_10Wbs- _5SSWfi UjjMrh\">Nước tẩy bồn cầu Black Suzy hương quế</div>', ' <div class=\"_10Wbs- _5SSWfi UjjMrh\">[CHÍNH HÃNG] Nước tẩy rửa bồn cầu CAO CẤP SUZY 560g - thành phần HỮU CƠ', ' chất lượng NHẬT BẢN</div>', ' <div class=\"_10Wbs- _5SSWfi UjjMrh\">(Chính Hãng) Nước lau đồ gỗ Suzy chai 500ml Chất lượng Nhật Bản</div>', ' <div class=\"_10Wbs- _5SSWfi UjjMrh\"> [Chính Hãng ] Nước Rửa Chén Bát SUZY Can 4kg Chất Lượng Nhật Bản.</div>', ' <div class=\"_10Wbs- _5SSWfi UjjMrh\">( Chính Hãng) Nước rửa chén Suzy can 2', '1kg có vòi nhấn - Công nghệ Nhật Bản</div>', ' <div class=\"_10Wbs- _5SSWfi UjjMrh\">Nước giặt xả Suzy 2', '4kg Nhật Bản công nghệ Nano Bạc', ' hương Lavender', ' thành phần hữu cơ', ' giặt được cho bé.</div>', ' <div class=\"_10Wbs- _5SSWfi UjjMrh\">Vải Thủy Suzy</div>', ' <div class=\"_10Wbs- _5SSWfi UjjMrh\">áo sơ mi kẻ xanh', ' sơ mi nữ', ' áo sơ mi dáng suzy phong cách Hàn Quốc</div>', ' <div class=\"_10Wbs- _5SSWfi UjjMrh\">[CHÍNH HÃNG] Nước xịt lau đồ GỖ DIỆT KHUẨN SUZY 500ml - thành phần HỮU CƠ', ' chất lượng NHẬT BẢN</div>', ' <div class=\"_10Wbs- _5SSWfi UjjMrh\">Nước Rửa Chén Suzy Hương Bạc Hà Can 2.1kg Công Nghệ Nhật Bản ( vòi nhấn )</div>', ' <div class=\"_10Wbs- _5SSWfi UjjMrh\">Nước xịt lau đồ GỖ DIỆT KHUẨN SUZY 500ml - thành phần HỮU CƠ', ' chất lượng NHẬT BẢN</div>]\"']\n",
      "15\n"
     ]
    }
   ],
   "source": [
    "from tarfile import LNKTYPE\n",
    "from types import DynamicClassAttribute\n",
    "from selenium import webdriver\n",
    "from selenium.webdriver.chrome.options import Options\n",
    "import time\n",
    "import random\n",
    "import platform\n",
    "import sys\n",
    "import os\n",
    "import json\n",
    "import pickle\n",
    "import click\n",
    "import openpyxl\n",
    "from openpyxl import load_workbook\n",
    "import random\n",
    "from fake_useragent import UserAgent\n",
    "from bs4 import BeautifulSoup\n",
    "from selenium.webdriver.common.keys import Keys\n",
    "from selenium.webdriver.common.by import By\n",
    "from selenium.webdriver.support.ui import WebDriverWait\n",
    "from selenium.webdriver.support import expected_conditions as EC\n",
    "from selenium.webdriver.common.action_chains import ActionChains\n",
    "from selenium.common.exceptions import WebDriverException, TimeoutException, MoveTargetOutOfBoundsException\n",
    "from selenium.common.exceptions import TimeoutException\n",
    "from pathlib import Path\n",
    "from webdriver_manager import driver\n",
    "from webdriver_manager.chrome import ChromeDriverManager\n",
    "from termcolor import colored\n",
    "from colorama import init\n",
    "init()\n",
    "wb = load_workbook('a.xlsx')\n",
    "sh = wb.active\n",
    "maxrow = sh.max_row\n",
    "wb = openpyxl.load_workbook('a.xlsx')\n",
    "sheet = wb['Sheet1']\n",
    "a = random.randint(1,maxrow)\n",
    "tensp = sheet.cell(row=a, column=1)\n",
    "linksp = sheet.cell(row=a, column=2)\n",
    "d = tensp.value \n",
    "dd = linksp.value\n",
    "z = 1\n",
    "j = 1\n",
    "\n",
    "\n",
    "try:\n",
    "    from bs4 import BeautifulSoup\n",
    "    profiles = BeautifulSoup(driver.page_source)\n",
    "    link = profiles.find_all('div', class_='_10Wbs- _5SSWfi UjjMrh')\n",
    "    \n",
    "    print(link)\n",
    "except:\n",
    "    pass\n",
    "a = '\"{}\"'.format(link)\n",
    "print(a.split(\",\"))\n",
    "\n",
    "b = a.replace('</div>',\"-\")\n",
    "c = b.replace('<div class=\"_10Wbs- _5SSWfi UjjMrh\">', '-ta-').replace('[-ta-','').replace('\"','').replace('-]\"','')\n",
    "\n",
    "\n",
    "def Convert(string):\n",
    "\tli = list(string.split('-, -ta-'))\n",
    "\treturn li\n",
    "\n",
    "# Driver code\t\n",
    "str1 = c \n",
    "asd  =Convert(str1)\n",
    "asdf = linksp.value\n",
    "print(asd.index(asdf))"
   ]
  },
  {
   "cell_type": "code",
   "execution_count": 10,
   "metadata": {},
   "outputs": [
    {
     "name": "stderr",
     "output_type": "stream",
     "text": [
      "C:\\Users\\vps24\\AppData\\Local\\Temp\\2/ipykernel_5576/3511418188.py:1: DeprecationWarning: find_element_by_* commands are deprecated. Please use find_element() instead\n",
      "  driver.find_element_by_xpath('//*[@id=\"main\"]/div/div[3]/div/div[2]/div[2]/div[2]/div[16]').click()\n"
     ]
    }
   ],
   "source": [
    "driver.find_element_by_xpath('//*[@id=\"main\"]/div/div[3]/div/div[2]/div[2]/div[2]/div[16]').click()"
   ]
  }
 ],
 "metadata": {
  "interpreter": {
   "hash": "905d57959509bdd2847998dac0506b1d2ef4dea6118c579ae3be9576d47b19ec"
  },
  "kernelspec": {
   "display_name": "Python 3.10.0 64-bit",
   "language": "python",
   "name": "python3"
  },
  "language_info": {
   "codemirror_mode": {
    "name": "ipython",
    "version": 3
   },
   "file_extension": ".py",
   "mimetype": "text/x-python",
   "name": "python",
   "nbconvert_exporter": "python",
   "pygments_lexer": "ipython3",
   "version": "3.10.0"
  },
  "orig_nbformat": 4
 },
 "nbformat": 4,
 "nbformat_minor": 2
}
